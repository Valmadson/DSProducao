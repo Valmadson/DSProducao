{
 "cells": [
  {
   "cell_type": "markdown",
   "id": "e70362bf",
   "metadata": {
    "ExecuteTime": {
     "end_time": "2021-06-24T15:12:47.654831Z",
     "start_time": "2021-06-24T15:12:47.652132Z"
    }
   },
   "source": [
    "# 0.0 Imports"
   ]
  },
  {
   "cell_type": "code",
   "execution_count": 2,
   "id": "380702c3",
   "metadata": {
    "ExecuteTime": {
     "end_time": "2021-06-30T19:09:59.900778Z",
     "start_time": "2021-06-30T19:09:57.513625Z"
    }
   },
   "outputs": [],
   "source": [
    "import math\n",
    "import pandas as pd\n",
    "import inflection"
   ]
  },
  {
   "cell_type": "markdown",
   "id": "307fd087",
   "metadata": {
    "ExecuteTime": {
     "end_time": "2021-06-24T15:21:11.738424Z",
     "start_time": "2021-06-24T15:21:11.733734Z"
    },
    "heading_collapsed": true
   },
   "source": [
    "## 0.1. Helper Functions"
   ]
  },
  {
   "cell_type": "markdown",
   "id": "c053a492",
   "metadata": {
    "ExecuteTime": {
     "end_time": "2021-06-24T15:21:11.738424Z",
     "start_time": "2021-06-24T15:21:11.733734Z"
    },
    "heading_collapsed": true
   },
   "source": [
    "## 0.2. Loading data"
   ]
  },
  {
   "cell_type": "code",
   "execution_count": 12,
   "id": "ae17de1e",
   "metadata": {
    "ExecuteTime": {
     "end_time": "2021-06-30T20:03:44.598174Z",
     "start_time": "2021-06-30T20:03:44.085385Z"
    },
    "hidden": true
   },
   "outputs": [],
   "source": [
    "df_sales_0 = pd.read_csv('data/train.csv', low_memory=False)\n",
    "df_store_0 = pd.read_csv('data/store.csv', low_memory=False)"
   ]
  },
  {
   "cell_type": "code",
   "execution_count": 4,
   "id": "dec9d152",
   "metadata": {
    "ExecuteTime": {
     "end_time": "2021-06-30T19:10:04.731482Z",
     "start_time": "2021-06-30T19:10:04.085891Z"
    },
    "hidden": true
   },
   "outputs": [],
   "source": [
    "df_merge = pd.merge(df_sales_0,df_store_0, how='left',on='Store')"
   ]
  },
  {
   "cell_type": "markdown",
   "id": "4ab84d64",
   "metadata": {
    "ExecuteTime": {
     "end_time": "2021-06-24T15:12:47.654831Z",
     "start_time": "2021-06-24T15:12:47.652132Z"
    }
   },
   "source": [
    "# 1.0 Descrição dos dados"
   ]
  },
  {
   "cell_type": "markdown",
   "id": "8ce1a88e",
   "metadata": {
    "ExecuteTime": {
     "end_time": "2021-06-24T17:52:36.925082Z",
     "start_time": "2021-06-24T17:52:36.922837Z"
    },
    "code_folding": []
   },
   "source": [
    "## 1.1. Dimensão dos Dados"
   ]
  },
  {
   "cell_type": "code",
   "execution_count": 5,
   "id": "d2ae4f7c",
   "metadata": {
    "ExecuteTime": {
     "end_time": "2021-06-30T19:10:06.829109Z",
     "start_time": "2021-06-30T19:10:06.822860Z"
    }
   },
   "outputs": [
    {
     "name": "stdout",
     "output_type": "stream",
     "text": [
      "Número de Linhas 1017209\n",
      "Número de Colunas 18\n"
     ]
    }
   ],
   "source": [
    "print( 'Número de Linhas {}'.format(df_merge.shape[0]))\n",
    "print( 'Número de Colunas {}'.format(df_merge.shape[1]))"
   ]
  },
  {
   "cell_type": "markdown",
   "id": "b1f55efd",
   "metadata": {
    "ExecuteTime": {
     "end_time": "2021-06-24T17:52:36.925082Z",
     "start_time": "2021-06-24T17:52:36.922837Z"
    },
    "code_folding": []
   },
   "source": [
    "## 1.2. Tipos de Dados"
   ]
  },
  {
   "cell_type": "code",
   "execution_count": 7,
   "id": "5a12add9",
   "metadata": {
    "ExecuteTime": {
     "end_time": "2021-06-30T19:10:23.183186Z",
     "start_time": "2021-06-30T19:10:23.049906Z"
    }
   },
   "outputs": [],
   "source": [
    "df_merge['Date'] = pd.to_datetime(df_merge['Date'])"
   ]
  },
  {
   "cell_type": "code",
   "execution_count": 8,
   "id": "2b9a936d",
   "metadata": {
    "ExecuteTime": {
     "end_time": "2021-06-30T19:10:24.317287Z",
     "start_time": "2021-06-30T19:10:24.312842Z"
    },
    "scrolled": true
   },
   "outputs": [
    {
     "data": {
      "text/plain": [
       "Store                                 int64\n",
       "DayOfWeek                             int64\n",
       "Date                         datetime64[ns]\n",
       "Sales                                 int64\n",
       "Customers                             int64\n",
       "Open                                  int64\n",
       "Promo                                 int64\n",
       "StateHoliday                         object\n",
       "SchoolHoliday                         int64\n",
       "StoreType                            object\n",
       "Assortment                           object\n",
       "CompetitionDistance                 float64\n",
       "CompetitionOpenSinceMonth           float64\n",
       "CompetitionOpenSinceYear            float64\n",
       "Promo2                                int64\n",
       "Promo2SinceWeek                     float64\n",
       "Promo2SinceYear                     float64\n",
       "PromoInterval                        object\n",
       "dtype: object"
      ]
     },
     "execution_count": 8,
     "metadata": {},
     "output_type": "execute_result"
    }
   ],
   "source": [
    "df_merge.dtypes"
   ]
  },
  {
   "cell_type": "markdown",
   "id": "460ba244",
   "metadata": {
    "ExecuteTime": {
     "end_time": "2021-06-24T17:52:36.925082Z",
     "start_time": "2021-06-24T17:52:36.922837Z"
    },
    "code_folding": []
   },
   "source": [
    "## 1.1. Verificando Nan"
   ]
  },
  {
   "cell_type": "code",
   "execution_count": 10,
   "id": "eb7bdca3",
   "metadata": {
    "ExecuteTime": {
     "end_time": "2021-06-30T19:10:42.597943Z",
     "start_time": "2021-06-30T19:10:42.457522Z"
    }
   },
   "outputs": [
    {
     "data": {
      "text/plain": [
       "Store                             0\n",
       "DayOfWeek                         0\n",
       "Date                              0\n",
       "Sales                             0\n",
       "Customers                         0\n",
       "Open                              0\n",
       "Promo                             0\n",
       "StateHoliday                      0\n",
       "SchoolHoliday                     0\n",
       "StoreType                         0\n",
       "Assortment                        0\n",
       "CompetitionDistance            2642\n",
       "CompetitionOpenSinceMonth    323348\n",
       "CompetitionOpenSinceYear     323348\n",
       "Promo2                            0\n",
       "Promo2SinceWeek              508031\n",
       "Promo2SinceYear              508031\n",
       "PromoInterval                508031\n",
       "dtype: int64"
      ]
     },
     "execution_count": 10,
     "metadata": {},
     "output_type": "execute_result"
    }
   ],
   "source": [
    "df_merge.isna().sum()"
   ]
  },
  {
   "cell_type": "markdown",
   "id": "0ac8a25a",
   "metadata": {
    "ExecuteTime": {
     "end_time": "2021-06-24T17:52:36.925082Z",
     "start_time": "2021-06-24T17:52:36.922837Z"
    },
    "code_folding": []
   },
   "source": [
    "## 1.1. Fillout NA"
   ]
  },
  {
   "cell_type": "code",
   "execution_count": 9,
   "id": "af2778e0",
   "metadata": {
    "ExecuteTime": {
     "end_time": "2021-06-28T23:43:45.977985Z",
     "start_time": "2021-06-28T23:43:45.959838Z"
    }
   },
   "outputs": [
    {
     "data": {
      "text/plain": [
       "75860.0"
      ]
     },
     "execution_count": 9,
     "metadata": {},
     "output_type": "execute_result"
    }
   ],
   "source": [
    "df_merge['CompetitionDistance'].max()"
   ]
  },
  {
   "cell_type": "code",
   "execution_count": 18,
   "id": "b0c70ba7",
   "metadata": {
    "ExecuteTime": {
     "end_time": "2021-06-30T21:01:04.667853Z",
     "start_time": "2021-06-30T21:01:04.408768Z"
    }
   },
   "outputs": [],
   "source": [
    "# substituição da feature CompetitionDistance com um valor bem alto\n",
    "df_merge['CompetitionDistance'] = df_merge['CompetitionDistance'].apply( lambda x: 200000.0 if math.isnan(x) else x)"
   ]
  },
  {
   "cell_type": "code",
   "execution_count": 24,
   "id": "3e95cec5",
   "metadata": {
    "ExecuteTime": {
     "end_time": "2021-06-30T23:19:06.888074Z",
     "start_time": "2021-06-30T23:18:00.673074Z"
    }
   },
   "outputs": [],
   "source": [
    "#CompetitionOpenSinceMonth\n",
    "df_merge['CompetitionOpenSinceMonth'] = df_merge.apply( lambda x: x['Date'].month if math.isnan( x['CompetitionOpenSinceMonth'] ) else x['CompetitionOpenSinceMonth'], axis=1 )\n",
    "\n",
    "#CompetitionOpenSinceYear\n",
    "df_merge['CompetitionOpenSinceYear'] = df_merge.apply( lambda x: x['Date'].year if math.isnan( x['CompetitionOpenSinceYear'] ) else x['CompetitionOpenSinceYear'], axis=1 )\n",
    "\n",
    "#Promo2SinceWeek\n",
    "df_merge['Promo2SinceWeek'] = df_merge.apply( lambda x: x['Date'].week if math.isnan( x['Promo2SinceWeek'] ) else x['Promo2SinceWeek'], axis=1 )\n",
    "\n",
    "#Promo2SinceYear\n",
    "df_merge['Promo2SinceYear'] = df_merge.apply( lambda x: x['Date'].year if math.isnan( x['Promo2SinceYear'] ) else x['Promo2SinceYear'], axis=1 )\n",
    "\n",
    "#PromoInterval\n",
    "month_map = {1: 'Jan',  2: 'Fev',  3: 'Mar',  4: 'Apr',  5: 'May',  6: 'Jun',  7: 'Jul',  8: 'Aug',  9: 'Sep',  10: 'Oct', 11: 'Nov', 12: 'Dec'}\n",
    "\n",
    "df_merge['PromoInterval'].fillna(0, inplace=True )\n",
    "\n",
    "# Criando uma nova coluna, informando qual é o mês de referencia\n",
    "df_merge['month_map'] = df_merge['Date'].dt.month.map( month_map )\n",
    "\n",
    "# Nova coluna contendo informações se a coluna month_map esta contida em promoInterval\n",
    "df_merge['is_promo'] = df_merge[['PromoInterval', 'month_map']].apply( lambda x: 0 if x['PromoInterval'] == 0 else 1 if x['month_map'] in x['PromoInterval'].split( ',' ) else 0, axis=1 )"
   ]
  },
  {
   "cell_type": "code",
   "execution_count": 26,
   "id": "5da126d8",
   "metadata": {
    "ExecuteTime": {
     "end_time": "2021-06-30T23:36:26.325406Z",
     "start_time": "2021-06-30T23:36:26.112544Z"
    }
   },
   "outputs": [
    {
     "data": {
      "text/plain": [
       "Store                        0\n",
       "DayOfWeek                    0\n",
       "Date                         0\n",
       "Sales                        0\n",
       "Customers                    0\n",
       "Open                         0\n",
       "Promo                        0\n",
       "StateHoliday                 0\n",
       "SchoolHoliday                0\n",
       "StoreType                    0\n",
       "Assortment                   0\n",
       "CompetitionDistance          0\n",
       "CompetitionOpenSinceMonth    0\n",
       "CompetitionOpenSinceYear     0\n",
       "Promo2                       0\n",
       "Promo2SinceWeek              0\n",
       "Promo2SinceYear              0\n",
       "PromoInterval                0\n",
       "month_map                    0\n",
       "is_promo                     0\n",
       "dtype: int64"
      ]
     },
     "execution_count": 26,
     "metadata": {},
     "output_type": "execute_result"
    }
   ],
   "source": [
    "df_merge.isna().sum()"
   ]
  },
  {
   "cell_type": "code",
   "execution_count": 27,
   "id": "c01ec06f",
   "metadata": {
    "ExecuteTime": {
     "end_time": "2021-06-30T23:36:39.541814Z",
     "start_time": "2021-06-30T23:36:39.432549Z"
    }
   },
   "outputs": [
    {
     "data": {
      "text/html": [
       "<div>\n",
       "<style scoped>\n",
       "    .dataframe tbody tr th:only-of-type {\n",
       "        vertical-align: middle;\n",
       "    }\n",
       "\n",
       "    .dataframe tbody tr th {\n",
       "        vertical-align: top;\n",
       "    }\n",
       "\n",
       "    .dataframe thead th {\n",
       "        text-align: right;\n",
       "    }\n",
       "</style>\n",
       "<table border=\"1\" class=\"dataframe\">\n",
       "  <thead>\n",
       "    <tr style=\"text-align: right;\">\n",
       "      <th></th>\n",
       "      <th>418372</th>\n",
       "      <th>526085</th>\n",
       "      <th>1008360</th>\n",
       "      <th>1003437</th>\n",
       "      <th>596012</th>\n",
       "    </tr>\n",
       "  </thead>\n",
       "  <tbody>\n",
       "    <tr>\n",
       "      <th>Store</th>\n",
       "      <td>1033</td>\n",
       "      <td>591</td>\n",
       "      <td>71</td>\n",
       "      <td>723</td>\n",
       "      <td>273</td>\n",
       "    </tr>\n",
       "    <tr>\n",
       "      <th>DayOfWeek</th>\n",
       "      <td>7</td>\n",
       "      <td>1</td>\n",
       "      <td>2</td>\n",
       "      <td>7</td>\n",
       "      <td>1</td>\n",
       "    </tr>\n",
       "    <tr>\n",
       "      <th>Date</th>\n",
       "      <td>2014-06-22 00:00:00</td>\n",
       "      <td>2014-03-17 00:00:00</td>\n",
       "      <td>2013-01-08 00:00:00</td>\n",
       "      <td>2013-01-13 00:00:00</td>\n",
       "      <td>2014-01-13 00:00:00</td>\n",
       "    </tr>\n",
       "    <tr>\n",
       "      <th>Sales</th>\n",
       "      <td>0</td>\n",
       "      <td>7181</td>\n",
       "      <td>10289</td>\n",
       "      <td>0</td>\n",
       "      <td>4925</td>\n",
       "    </tr>\n",
       "    <tr>\n",
       "      <th>Customers</th>\n",
       "      <td>0</td>\n",
       "      <td>623</td>\n",
       "      <td>805</td>\n",
       "      <td>0</td>\n",
       "      <td>581</td>\n",
       "    </tr>\n",
       "    <tr>\n",
       "      <th>Open</th>\n",
       "      <td>0</td>\n",
       "      <td>1</td>\n",
       "      <td>1</td>\n",
       "      <td>0</td>\n",
       "      <td>1</td>\n",
       "    </tr>\n",
       "    <tr>\n",
       "      <th>Promo</th>\n",
       "      <td>0</td>\n",
       "      <td>1</td>\n",
       "      <td>1</td>\n",
       "      <td>0</td>\n",
       "      <td>0</td>\n",
       "    </tr>\n",
       "    <tr>\n",
       "      <th>StateHoliday</th>\n",
       "      <td>0</td>\n",
       "      <td>0</td>\n",
       "      <td>0</td>\n",
       "      <td>0</td>\n",
       "      <td>0</td>\n",
       "    </tr>\n",
       "    <tr>\n",
       "      <th>SchoolHoliday</th>\n",
       "      <td>0</td>\n",
       "      <td>0</td>\n",
       "      <td>0</td>\n",
       "      <td>0</td>\n",
       "      <td>0</td>\n",
       "    </tr>\n",
       "    <tr>\n",
       "      <th>StoreType</th>\n",
       "      <td>a</td>\n",
       "      <td>a</td>\n",
       "      <td>a</td>\n",
       "      <td>d</td>\n",
       "      <td>a</td>\n",
       "    </tr>\n",
       "    <tr>\n",
       "      <th>Assortment</th>\n",
       "      <td>a</td>\n",
       "      <td>c</td>\n",
       "      <td>a</td>\n",
       "      <td>c</td>\n",
       "      <td>c</td>\n",
       "    </tr>\n",
       "    <tr>\n",
       "      <th>CompetitionDistance</th>\n",
       "      <td>7680.0</td>\n",
       "      <td>3340.0</td>\n",
       "      <td>17500.0</td>\n",
       "      <td>5650.0</td>\n",
       "      <td>8480.0</td>\n",
       "    </tr>\n",
       "    <tr>\n",
       "      <th>CompetitionOpenSinceMonth</th>\n",
       "      <td>3</td>\n",
       "      <td>3</td>\n",
       "      <td>8</td>\n",
       "      <td>9</td>\n",
       "      <td>1</td>\n",
       "    </tr>\n",
       "    <tr>\n",
       "      <th>CompetitionOpenSinceYear</th>\n",
       "      <td>2006</td>\n",
       "      <td>2014</td>\n",
       "      <td>2008</td>\n",
       "      <td>2008</td>\n",
       "      <td>2014</td>\n",
       "    </tr>\n",
       "    <tr>\n",
       "      <th>Promo2</th>\n",
       "      <td>0</td>\n",
       "      <td>1</td>\n",
       "      <td>1</td>\n",
       "      <td>1</td>\n",
       "      <td>0</td>\n",
       "    </tr>\n",
       "    <tr>\n",
       "      <th>Promo2SinceWeek</th>\n",
       "      <td>25</td>\n",
       "      <td>22</td>\n",
       "      <td>37</td>\n",
       "      <td>5</td>\n",
       "      <td>3</td>\n",
       "    </tr>\n",
       "    <tr>\n",
       "      <th>Promo2SinceYear</th>\n",
       "      <td>2014</td>\n",
       "      <td>2012</td>\n",
       "      <td>2009</td>\n",
       "      <td>2013</td>\n",
       "      <td>2014</td>\n",
       "    </tr>\n",
       "    <tr>\n",
       "      <th>PromoInterval</th>\n",
       "      <td>0</td>\n",
       "      <td>Mar,Jun,Sept,Dec</td>\n",
       "      <td>Mar,Jun,Sept,Dec</td>\n",
       "      <td>Feb,May,Aug,Nov</td>\n",
       "      <td>0</td>\n",
       "    </tr>\n",
       "    <tr>\n",
       "      <th>month_map</th>\n",
       "      <td>Jun</td>\n",
       "      <td>Mar</td>\n",
       "      <td>Jan</td>\n",
       "      <td>Jan</td>\n",
       "      <td>Jan</td>\n",
       "    </tr>\n",
       "    <tr>\n",
       "      <th>is_promo</th>\n",
       "      <td>0</td>\n",
       "      <td>1</td>\n",
       "      <td>0</td>\n",
       "      <td>0</td>\n",
       "      <td>0</td>\n",
       "    </tr>\n",
       "  </tbody>\n",
       "</table>\n",
       "</div>"
      ],
      "text/plain": [
       "                                       418372               526085   \\\n",
       "Store                                     1033                  591   \n",
       "DayOfWeek                                    7                    1   \n",
       "Date                       2014-06-22 00:00:00  2014-03-17 00:00:00   \n",
       "Sales                                        0                 7181   \n",
       "Customers                                    0                  623   \n",
       "Open                                         0                    1   \n",
       "Promo                                        0                    1   \n",
       "StateHoliday                                 0                    0   \n",
       "SchoolHoliday                                0                    0   \n",
       "StoreType                                    a                    a   \n",
       "Assortment                                   a                    c   \n",
       "CompetitionDistance                     7680.0               3340.0   \n",
       "CompetitionOpenSinceMonth                    3                    3   \n",
       "CompetitionOpenSinceYear                  2006                 2014   \n",
       "Promo2                                       0                    1   \n",
       "Promo2SinceWeek                             25                   22   \n",
       "Promo2SinceYear                           2014                 2012   \n",
       "PromoInterval                                0     Mar,Jun,Sept,Dec   \n",
       "month_map                                  Jun                  Mar   \n",
       "is_promo                                     0                    1   \n",
       "\n",
       "                                       1008360              1003437  \\\n",
       "Store                                       71                  723   \n",
       "DayOfWeek                                    2                    7   \n",
       "Date                       2013-01-08 00:00:00  2013-01-13 00:00:00   \n",
       "Sales                                    10289                    0   \n",
       "Customers                                  805                    0   \n",
       "Open                                         1                    0   \n",
       "Promo                                        1                    0   \n",
       "StateHoliday                                 0                    0   \n",
       "SchoolHoliday                                0                    0   \n",
       "StoreType                                    a                    d   \n",
       "Assortment                                   a                    c   \n",
       "CompetitionDistance                    17500.0               5650.0   \n",
       "CompetitionOpenSinceMonth                    8                    9   \n",
       "CompetitionOpenSinceYear                  2008                 2008   \n",
       "Promo2                                       1                    1   \n",
       "Promo2SinceWeek                             37                    5   \n",
       "Promo2SinceYear                           2009                 2013   \n",
       "PromoInterval                 Mar,Jun,Sept,Dec      Feb,May,Aug,Nov   \n",
       "month_map                                  Jan                  Jan   \n",
       "is_promo                                     0                    0   \n",
       "\n",
       "                                       596012   \n",
       "Store                                      273  \n",
       "DayOfWeek                                    1  \n",
       "Date                       2014-01-13 00:00:00  \n",
       "Sales                                     4925  \n",
       "Customers                                  581  \n",
       "Open                                         1  \n",
       "Promo                                        0  \n",
       "StateHoliday                                 0  \n",
       "SchoolHoliday                                0  \n",
       "StoreType                                    a  \n",
       "Assortment                                   c  \n",
       "CompetitionDistance                     8480.0  \n",
       "CompetitionOpenSinceMonth                    1  \n",
       "CompetitionOpenSinceYear                  2014  \n",
       "Promo2                                       0  \n",
       "Promo2SinceWeek                              3  \n",
       "Promo2SinceYear                           2014  \n",
       "PromoInterval                                0  \n",
       "month_map                                  Jan  \n",
       "is_promo                                     0  "
      ]
     },
     "execution_count": 27,
     "metadata": {},
     "output_type": "execute_result"
    }
   ],
   "source": [
    "df_merge.sample(5).T"
   ]
  },
  {
   "cell_type": "code",
   "execution_count": null,
   "id": "211a3315",
   "metadata": {},
   "outputs": [],
   "source": [
    "#CompetitionDistance\n",
    "#CompetitionOpenSinceMonth\n",
    "#CompetitionOpenSinceYear\n",
    "#Promo2SinceWeek\n",
    "#Promo2SinceYear\n",
    "#PromoInterval"
   ]
  },
  {
   "cell_type": "code",
   "execution_count": 22,
   "id": "2068d3b8",
   "metadata": {
    "ExecuteTime": {
     "end_time": "2021-06-30T21:02:13.768461Z",
     "start_time": "2021-06-30T21:02:13.762312Z"
    },
    "scrolled": true
   },
   "outputs": [
    {
     "data": {
      "text/plain": [
       "Store                                 int64\n",
       "DayOfWeek                             int64\n",
       "Date                         datetime64[ns]\n",
       "Sales                                 int64\n",
       "Customers                             int64\n",
       "Open                                  int64\n",
       "Promo                                 int64\n",
       "StateHoliday                         object\n",
       "SchoolHoliday                         int64\n",
       "StoreType                            object\n",
       "Assortment                           object\n",
       "CompetitionDistance                 float64\n",
       "CompetitionOpenSinceMonth             int64\n",
       "CompetitionOpenSinceYear              int64\n",
       "Promo2                                int64\n",
       "Promo2SinceWeek                       int64\n",
       "Promo2SinceYear                       int64\n",
       "PromoInterval                        object\n",
       "dtype: object"
      ]
     },
     "execution_count": 22,
     "metadata": {},
     "output_type": "execute_result"
    }
   ],
   "source": [
    "df_merge.dtypes"
   ]
  },
  {
   "cell_type": "code",
   "execution_count": 21,
   "id": "ff9c234b",
   "metadata": {
    "ExecuteTime": {
     "end_time": "2021-06-30T21:02:10.712838Z",
     "start_time": "2021-06-30T21:02:10.670310Z"
    }
   },
   "outputs": [],
   "source": [
    "df_merge['CompetitionOpenSinceMonth'] = df_merge['CompetitionOpenSinceMonth'].astype(int)\n",
    "df_merge['CompetitionOpenSinceYear']  = df_merge['CompetitionOpenSinceYear'].astype(int)\n",
    "\n",
    "df_merge['Promo2SinceWeek']  = df_merge['Promo2SinceWeek'].astype(int)\n",
    "df_merge['Promo2SinceYear']  = df_merge['Promo2SinceYear'].astype(int)"
   ]
  },
  {
   "cell_type": "code",
   "execution_count": null,
   "id": "0210475f",
   "metadata": {},
   "outputs": [],
   "source": []
  }
 ],
 "metadata": {
  "kernelspec": {
   "display_name": "Python 3",
   "language": "python",
   "name": "python3"
  },
  "language_info": {
   "codemirror_mode": {
    "name": "ipython",
    "version": 3
   },
   "file_extension": ".py",
   "mimetype": "text/x-python",
   "name": "python",
   "nbconvert_exporter": "python",
   "pygments_lexer": "ipython3",
   "version": "3.9.2"
  }
 },
 "nbformat": 4,
 "nbformat_minor": 5
}
