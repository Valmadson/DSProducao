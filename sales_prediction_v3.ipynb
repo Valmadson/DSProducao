{
 "cells": [
  {
   "cell_type": "markdown",
   "id": "e70362bf",
   "metadata": {
    "ExecuteTime": {
     "end_time": "2021-06-24T15:12:47.654831Z",
     "start_time": "2021-06-24T15:12:47.652132Z"
    },
    "heading_collapsed": true
   },
   "source": [
    "# 0.0 Imports"
   ]
  },
  {
   "cell_type": "code",
   "execution_count": 57,
   "id": "380702c3",
   "metadata": {
    "ExecuteTime": {
     "end_time": "2021-07-01T02:23:06.939259Z",
     "start_time": "2021-07-01T02:23:06.936532Z"
    },
    "hidden": true
   },
   "outputs": [],
   "source": [
    "import math\n",
    "import pandas as pd\n",
    "import inflection\n",
    "import numpy as np\n",
    "import seaborn as sns\n",
    "\n",
    "from IPython.core.display import HTML\n",
    "\n",
    "from matplotlib import pyplot as plt"
   ]
  },
  {
   "cell_type": "markdown",
   "id": "307fd087",
   "metadata": {
    "ExecuteTime": {
     "end_time": "2021-06-24T15:21:11.738424Z",
     "start_time": "2021-06-24T15:21:11.733734Z"
    },
    "hidden": true
   },
   "source": [
    "## 0.1. Helper Functions"
   ]
  },
  {
   "cell_type": "code",
   "execution_count": 55,
   "id": "13a2703e",
   "metadata": {
    "ExecuteTime": {
     "end_time": "2021-07-01T02:22:28.351375Z",
     "start_time": "2021-07-01T02:22:28.332780Z"
    },
    "hidden": true
   },
   "outputs": [],
   "source": [
    "def jupyter_settings():\n",
    "    %matplotlib inline\n",
    "    %pylab inline\n",
    "    \n",
    "    plt.style.use( 'bmh' )\n",
    "    plt.rcParams['figure.figsize'] = [25, 12]\n",
    "    plt.rcParams['font.size'] = 24\n",
    "    \n",
    "    display( HTML( '<style>.container { width:100% !important; }</style>') )\n",
    "    pd.options.display.max_columns = None\n",
    "    pd.options.display.max_rows = None\n",
    "    pd.set_option( 'display.expand_frame_repr', False )\n",
    "    \n",
    "    sns.set()"
   ]
  },
  {
   "cell_type": "code",
   "execution_count": 58,
   "id": "5e8dd21d",
   "metadata": {
    "ExecuteTime": {
     "end_time": "2021-07-01T02:23:10.894436Z",
     "start_time": "2021-07-01T02:23:10.874947Z"
    },
    "hidden": true
   },
   "outputs": [
    {
     "name": "stdout",
     "output_type": "stream",
     "text": [
      "Populating the interactive namespace from numpy and matplotlib\n"
     ]
    },
    {
     "data": {
      "text/html": [
       "<style>.container { width:100% !important; }</style>"
      ],
      "text/plain": [
       "<IPython.core.display.HTML object>"
      ]
     },
     "metadata": {},
     "output_type": "display_data"
    }
   ],
   "source": [
    "jupyter_settings()"
   ]
  },
  {
   "cell_type": "markdown",
   "id": "c053a492",
   "metadata": {
    "ExecuteTime": {
     "end_time": "2021-06-24T15:21:11.738424Z",
     "start_time": "2021-06-24T15:21:11.733734Z"
    },
    "hidden": true
   },
   "source": [
    "## 0.2. Loading data"
   ]
  },
  {
   "cell_type": "code",
   "execution_count": null,
   "id": "c4f5498c",
   "metadata": {
    "hidden": true
   },
   "outputs": [],
   "source": []
  },
  {
   "cell_type": "code",
   "execution_count": 12,
   "id": "ae17de1e",
   "metadata": {
    "ExecuteTime": {
     "end_time": "2021-06-30T20:03:44.598174Z",
     "start_time": "2021-06-30T20:03:44.085385Z"
    },
    "hidden": true
   },
   "outputs": [],
   "source": [
    "df_sales_0 = pd.read_csv('data/train.csv', low_memory=False)\n",
    "df_store_0 = pd.read_csv('data/store.csv', low_memory=False)"
   ]
  },
  {
   "cell_type": "code",
   "execution_count": 4,
   "id": "dec9d152",
   "metadata": {
    "ExecuteTime": {
     "end_time": "2021-06-30T19:10:04.731482Z",
     "start_time": "2021-06-30T19:10:04.085891Z"
    },
    "hidden": true
   },
   "outputs": [],
   "source": [
    "df_merge = pd.merge(df_sales_0,df_store_0, how='left',on='Store')"
   ]
  },
  {
   "cell_type": "markdown",
   "id": "4ab84d64",
   "metadata": {
    "ExecuteTime": {
     "end_time": "2021-06-24T15:12:47.654831Z",
     "start_time": "2021-06-24T15:12:47.652132Z"
    }
   },
   "source": [
    "# 1.0 Descrição dos dados"
   ]
  },
  {
   "cell_type": "markdown",
   "id": "8ce1a88e",
   "metadata": {
    "ExecuteTime": {
     "end_time": "2021-06-24T17:52:36.925082Z",
     "start_time": "2021-06-24T17:52:36.922837Z"
    },
    "code_folding": [],
    "heading_collapsed": true
   },
   "source": [
    "## 1.1. Dimensão dos Dados"
   ]
  },
  {
   "cell_type": "code",
   "execution_count": 5,
   "id": "d2ae4f7c",
   "metadata": {
    "ExecuteTime": {
     "end_time": "2021-06-30T19:10:06.829109Z",
     "start_time": "2021-06-30T19:10:06.822860Z"
    },
    "hidden": true
   },
   "outputs": [
    {
     "name": "stdout",
     "output_type": "stream",
     "text": [
      "Número de Linhas 1017209\n",
      "Número de Colunas 18\n"
     ]
    }
   ],
   "source": [
    "print( 'Número de Linhas {}'.format(df_merge.shape[0]))\n",
    "print( 'Número de Colunas {}'.format(df_merge.shape[1]))"
   ]
  },
  {
   "cell_type": "markdown",
   "id": "b1f55efd",
   "metadata": {
    "ExecuteTime": {
     "end_time": "2021-06-24T17:52:36.925082Z",
     "start_time": "2021-06-24T17:52:36.922837Z"
    },
    "code_folding": [],
    "heading_collapsed": true
   },
   "source": [
    "## 1.2. Tipos de Dados"
   ]
  },
  {
   "cell_type": "code",
   "execution_count": 7,
   "id": "5a12add9",
   "metadata": {
    "ExecuteTime": {
     "end_time": "2021-06-30T19:10:23.183186Z",
     "start_time": "2021-06-30T19:10:23.049906Z"
    },
    "hidden": true
   },
   "outputs": [],
   "source": [
    "df_merge['Date'] = pd.to_datetime(df_merge['Date'])"
   ]
  },
  {
   "cell_type": "code",
   "execution_count": 8,
   "id": "2b9a936d",
   "metadata": {
    "ExecuteTime": {
     "end_time": "2021-06-30T19:10:24.317287Z",
     "start_time": "2021-06-30T19:10:24.312842Z"
    },
    "hidden": true,
    "scrolled": true
   },
   "outputs": [
    {
     "data": {
      "text/plain": [
       "Store                                 int64\n",
       "DayOfWeek                             int64\n",
       "Date                         datetime64[ns]\n",
       "Sales                                 int64\n",
       "Customers                             int64\n",
       "Open                                  int64\n",
       "Promo                                 int64\n",
       "StateHoliday                         object\n",
       "SchoolHoliday                         int64\n",
       "StoreType                            object\n",
       "Assortment                           object\n",
       "CompetitionDistance                 float64\n",
       "CompetitionOpenSinceMonth           float64\n",
       "CompetitionOpenSinceYear            float64\n",
       "Promo2                                int64\n",
       "Promo2SinceWeek                     float64\n",
       "Promo2SinceYear                     float64\n",
       "PromoInterval                        object\n",
       "dtype: object"
      ]
     },
     "execution_count": 8,
     "metadata": {},
     "output_type": "execute_result"
    }
   ],
   "source": [
    "df_merge.dtypes"
   ]
  },
  {
   "cell_type": "markdown",
   "id": "460ba244",
   "metadata": {
    "ExecuteTime": {
     "end_time": "2021-06-24T17:52:36.925082Z",
     "start_time": "2021-06-24T17:52:36.922837Z"
    },
    "code_folding": [],
    "heading_collapsed": true
   },
   "source": [
    "## 1.3. Verificando Nan"
   ]
  },
  {
   "cell_type": "code",
   "execution_count": 10,
   "id": "eb7bdca3",
   "metadata": {
    "ExecuteTime": {
     "end_time": "2021-06-30T19:10:42.597943Z",
     "start_time": "2021-06-30T19:10:42.457522Z"
    },
    "hidden": true
   },
   "outputs": [
    {
     "data": {
      "text/plain": [
       "Store                             0\n",
       "DayOfWeek                         0\n",
       "Date                              0\n",
       "Sales                             0\n",
       "Customers                         0\n",
       "Open                              0\n",
       "Promo                             0\n",
       "StateHoliday                      0\n",
       "SchoolHoliday                     0\n",
       "StoreType                         0\n",
       "Assortment                        0\n",
       "CompetitionDistance            2642\n",
       "CompetitionOpenSinceMonth    323348\n",
       "CompetitionOpenSinceYear     323348\n",
       "Promo2                            0\n",
       "Promo2SinceWeek              508031\n",
       "Promo2SinceYear              508031\n",
       "PromoInterval                508031\n",
       "dtype: int64"
      ]
     },
     "execution_count": 10,
     "metadata": {},
     "output_type": "execute_result"
    }
   ],
   "source": [
    "df_merge.isna().sum()"
   ]
  },
  {
   "cell_type": "markdown",
   "id": "0ac8a25a",
   "metadata": {
    "ExecuteTime": {
     "end_time": "2021-06-24T17:52:36.925082Z",
     "start_time": "2021-06-24T17:52:36.922837Z"
    },
    "code_folding": [],
    "heading_collapsed": true
   },
   "source": [
    "## 1.4. Fillout NA"
   ]
  },
  {
   "cell_type": "markdown",
   "id": "a0e6f603",
   "metadata": {
    "ExecuteTime": {
     "end_time": "2021-06-24T17:52:36.925082Z",
     "start_time": "2021-06-24T17:52:36.922837Z"
    },
    "code_folding": [],
    "heading_collapsed": true
   },
   "source": [
    "## 1.5. Data Change"
   ]
  },
  {
   "cell_type": "code",
   "execution_count": 21,
   "id": "ff9c234b",
   "metadata": {
    "ExecuteTime": {
     "end_time": "2021-06-30T21:02:10.712838Z",
     "start_time": "2021-06-30T21:02:10.670310Z"
    },
    "hidden": true
   },
   "outputs": [],
   "source": [
    "df_merge['CompetitionOpenSinceMonth'] = df_merge['CompetitionOpenSinceMonth'].astype(int)\n",
    "df_merge['CompetitionOpenSinceYear']  = df_merge['CompetitionOpenSinceYear'].astype(int)\n",
    "\n",
    "df_merge['Promo2SinceWeek']  = df_merge['Promo2SinceWeek'].astype(int)\n",
    "df_merge['Promo2SinceYear']  = df_merge['Promo2SinceYear'].astype(int)"
   ]
  },
  {
   "cell_type": "markdown",
   "id": "247ee91a",
   "metadata": {
    "ExecuteTime": {
     "end_time": "2021-06-24T17:52:36.925082Z",
     "start_time": "2021-06-24T17:52:36.922837Z"
    },
    "code_folding": []
   },
   "source": [
    "## 1.6. Estatistica Descritiva"
   ]
  },
  {
   "cell_type": "code",
   "execution_count": 52,
   "id": "51ac53fd",
   "metadata": {
    "ExecuteTime": {
     "end_time": "2021-07-01T02:17:06.897992Z",
     "start_time": "2021-07-01T02:17:06.797422Z"
    }
   },
   "outputs": [],
   "source": [
    "atributo_numerico   = df_merge.select_dtypes( include=['int64', 'float64'] )\n",
    "atributo_categorico = df_merge.select_dtypes( exclude=['int64', 'float64', 'datetime64[ns]'] )"
   ]
  },
  {
   "cell_type": "code",
   "execution_count": 37,
   "id": "d94c291e",
   "metadata": {
    "ExecuteTime": {
     "end_time": "2021-07-01T02:08:32.367165Z",
     "start_time": "2021-07-01T02:08:29.898182Z"
    }
   },
   "outputs": [
    {
     "data": {
      "text/html": [
       "<div>\n",
       "<style scoped>\n",
       "    .dataframe tbody tr th:only-of-type {\n",
       "        vertical-align: middle;\n",
       "    }\n",
       "\n",
       "    .dataframe tbody tr th {\n",
       "        vertical-align: top;\n",
       "    }\n",
       "\n",
       "    .dataframe thead th {\n",
       "        text-align: right;\n",
       "    }\n",
       "</style>\n",
       "<table border=\"1\" class=\"dataframe\">\n",
       "  <thead>\n",
       "    <tr style=\"text-align: right;\">\n",
       "      <th></th>\n",
       "      <th>attributes</th>\n",
       "      <th>min</th>\n",
       "      <th>max</th>\n",
       "      <th>range</th>\n",
       "      <th>mean</th>\n",
       "      <th>median</th>\n",
       "      <th>std</th>\n",
       "      <th>skew</th>\n",
       "      <th>kurtosis</th>\n",
       "    </tr>\n",
       "  </thead>\n",
       "  <tbody>\n",
       "    <tr>\n",
       "      <th>0</th>\n",
       "      <td>Store</td>\n",
       "      <td>1.0</td>\n",
       "      <td>1115.0</td>\n",
       "      <td>1114.0</td>\n",
       "      <td>558.429727</td>\n",
       "      <td>558.0</td>\n",
       "      <td>321.908493</td>\n",
       "      <td>-0.000955</td>\n",
       "      <td>-1.200524</td>\n",
       "    </tr>\n",
       "    <tr>\n",
       "      <th>1</th>\n",
       "      <td>DayOfWeek</td>\n",
       "      <td>1.0</td>\n",
       "      <td>7.0</td>\n",
       "      <td>6.0</td>\n",
       "      <td>3.998341</td>\n",
       "      <td>4.0</td>\n",
       "      <td>1.997390</td>\n",
       "      <td>0.001593</td>\n",
       "      <td>-1.246873</td>\n",
       "    </tr>\n",
       "    <tr>\n",
       "      <th>2</th>\n",
       "      <td>Sales</td>\n",
       "      <td>0.0</td>\n",
       "      <td>41551.0</td>\n",
       "      <td>41551.0</td>\n",
       "      <td>5773.818972</td>\n",
       "      <td>5744.0</td>\n",
       "      <td>3849.924283</td>\n",
       "      <td>0.641460</td>\n",
       "      <td>1.778375</td>\n",
       "    </tr>\n",
       "    <tr>\n",
       "      <th>3</th>\n",
       "      <td>Customers</td>\n",
       "      <td>0.0</td>\n",
       "      <td>7388.0</td>\n",
       "      <td>7388.0</td>\n",
       "      <td>633.145946</td>\n",
       "      <td>609.0</td>\n",
       "      <td>464.411506</td>\n",
       "      <td>1.598650</td>\n",
       "      <td>7.091773</td>\n",
       "    </tr>\n",
       "    <tr>\n",
       "      <th>4</th>\n",
       "      <td>Open</td>\n",
       "      <td>0.0</td>\n",
       "      <td>1.0</td>\n",
       "      <td>1.0</td>\n",
       "      <td>0.830107</td>\n",
       "      <td>1.0</td>\n",
       "      <td>0.375539</td>\n",
       "      <td>-1.758045</td>\n",
       "      <td>1.090723</td>\n",
       "    </tr>\n",
       "    <tr>\n",
       "      <th>5</th>\n",
       "      <td>Promo</td>\n",
       "      <td>0.0</td>\n",
       "      <td>1.0</td>\n",
       "      <td>1.0</td>\n",
       "      <td>0.381515</td>\n",
       "      <td>0.0</td>\n",
       "      <td>0.485758</td>\n",
       "      <td>0.487838</td>\n",
       "      <td>-1.762018</td>\n",
       "    </tr>\n",
       "    <tr>\n",
       "      <th>6</th>\n",
       "      <td>SchoolHoliday</td>\n",
       "      <td>0.0</td>\n",
       "      <td>1.0</td>\n",
       "      <td>1.0</td>\n",
       "      <td>0.178647</td>\n",
       "      <td>0.0</td>\n",
       "      <td>0.383056</td>\n",
       "      <td>1.677842</td>\n",
       "      <td>0.815154</td>\n",
       "    </tr>\n",
       "    <tr>\n",
       "      <th>7</th>\n",
       "      <td>CompetitionDistance</td>\n",
       "      <td>20.0</td>\n",
       "      <td>200000.0</td>\n",
       "      <td>199980.0</td>\n",
       "      <td>5935.442677</td>\n",
       "      <td>2330.0</td>\n",
       "      <td>12547.646829</td>\n",
       "      <td>10.242344</td>\n",
       "      <td>147.789712</td>\n",
       "    </tr>\n",
       "    <tr>\n",
       "      <th>8</th>\n",
       "      <td>CompetitionOpenSinceMonth</td>\n",
       "      <td>1.0</td>\n",
       "      <td>12.0</td>\n",
       "      <td>11.0</td>\n",
       "      <td>6.786849</td>\n",
       "      <td>7.0</td>\n",
       "      <td>3.311085</td>\n",
       "      <td>-0.042076</td>\n",
       "      <td>-1.232607</td>\n",
       "    </tr>\n",
       "    <tr>\n",
       "      <th>9</th>\n",
       "      <td>CompetitionOpenSinceYear</td>\n",
       "      <td>1900.0</td>\n",
       "      <td>2015.0</td>\n",
       "      <td>115.0</td>\n",
       "      <td>2010.324840</td>\n",
       "      <td>2012.0</td>\n",
       "      <td>5.515591</td>\n",
       "      <td>-7.235657</td>\n",
       "      <td>124.071304</td>\n",
       "    </tr>\n",
       "    <tr>\n",
       "      <th>10</th>\n",
       "      <td>Promo2</td>\n",
       "      <td>0.0</td>\n",
       "      <td>1.0</td>\n",
       "      <td>1.0</td>\n",
       "      <td>0.500564</td>\n",
       "      <td>1.0</td>\n",
       "      <td>0.500000</td>\n",
       "      <td>-0.002255</td>\n",
       "      <td>-1.999999</td>\n",
       "    </tr>\n",
       "    <tr>\n",
       "      <th>11</th>\n",
       "      <td>Promo2SinceWeek</td>\n",
       "      <td>1.0</td>\n",
       "      <td>52.0</td>\n",
       "      <td>51.0</td>\n",
       "      <td>23.619033</td>\n",
       "      <td>22.0</td>\n",
       "      <td>14.310057</td>\n",
       "      <td>0.178723</td>\n",
       "      <td>-1.184046</td>\n",
       "    </tr>\n",
       "    <tr>\n",
       "      <th>12</th>\n",
       "      <td>Promo2SinceYear</td>\n",
       "      <td>2009.0</td>\n",
       "      <td>2015.0</td>\n",
       "      <td>6.0</td>\n",
       "      <td>2012.793297</td>\n",
       "      <td>2013.0</td>\n",
       "      <td>1.662657</td>\n",
       "      <td>-0.784436</td>\n",
       "      <td>-0.210075</td>\n",
       "    </tr>\n",
       "    <tr>\n",
       "      <th>13</th>\n",
       "      <td>is_promo</td>\n",
       "      <td>0.0</td>\n",
       "      <td>1.0</td>\n",
       "      <td>1.0</td>\n",
       "      <td>0.155231</td>\n",
       "      <td>0.0</td>\n",
       "      <td>0.362124</td>\n",
       "      <td>1.904152</td>\n",
       "      <td>1.625796</td>\n",
       "    </tr>\n",
       "  </tbody>\n",
       "</table>\n",
       "</div>"
      ],
      "text/plain": [
       "                   attributes     min       max     range         mean  \\\n",
       "0                       Store     1.0    1115.0    1114.0   558.429727   \n",
       "1                   DayOfWeek     1.0       7.0       6.0     3.998341   \n",
       "2                       Sales     0.0   41551.0   41551.0  5773.818972   \n",
       "3                   Customers     0.0    7388.0    7388.0   633.145946   \n",
       "4                        Open     0.0       1.0       1.0     0.830107   \n",
       "5                       Promo     0.0       1.0       1.0     0.381515   \n",
       "6               SchoolHoliday     0.0       1.0       1.0     0.178647   \n",
       "7         CompetitionDistance    20.0  200000.0  199980.0  5935.442677   \n",
       "8   CompetitionOpenSinceMonth     1.0      12.0      11.0     6.786849   \n",
       "9    CompetitionOpenSinceYear  1900.0    2015.0     115.0  2010.324840   \n",
       "10                     Promo2     0.0       1.0       1.0     0.500564   \n",
       "11            Promo2SinceWeek     1.0      52.0      51.0    23.619033   \n",
       "12            Promo2SinceYear  2009.0    2015.0       6.0  2012.793297   \n",
       "13                   is_promo     0.0       1.0       1.0     0.155231   \n",
       "\n",
       "    median           std       skew    kurtosis  \n",
       "0    558.0    321.908493  -0.000955   -1.200524  \n",
       "1      4.0      1.997390   0.001593   -1.246873  \n",
       "2   5744.0   3849.924283   0.641460    1.778375  \n",
       "3    609.0    464.411506   1.598650    7.091773  \n",
       "4      1.0      0.375539  -1.758045    1.090723  \n",
       "5      0.0      0.485758   0.487838   -1.762018  \n",
       "6      0.0      0.383056   1.677842    0.815154  \n",
       "7   2330.0  12547.646829  10.242344  147.789712  \n",
       "8      7.0      3.311085  -0.042076   -1.232607  \n",
       "9   2012.0      5.515591  -7.235657  124.071304  \n",
       "10     1.0      0.500000  -0.002255   -1.999999  \n",
       "11    22.0     14.310057   0.178723   -1.184046  \n",
       "12  2013.0      1.662657  -0.784436   -0.210075  \n",
       "13     0.0      0.362124   1.904152    1.625796  "
      ]
     },
     "execution_count": 37,
     "metadata": {},
     "output_type": "execute_result"
    }
   ],
   "source": [
    "# Tendenia Central - media, mediana\n",
    "tc1 = pd.DataFrame( atributo_numerico.apply( np.mean ) ).T\n",
    "tc2 = pd.DataFrame( atributo_numerico.apply( np.median ) ).T\n",
    "\n",
    "# Dispersão - std, min, max, range, skew, kurtosis\n",
    "disp1 = pd.DataFrame( atributo_numerico.apply( np.std ) ).T \n",
    "disp2 = pd.DataFrame( atributo_numerico.apply( min ) ).T \n",
    "disp3 = pd.DataFrame( atributo_numerico.apply( max ) ).T \n",
    "disp4 = pd.DataFrame( atributo_numerico.apply( lambda x: x.max() - x.min() ) ).T \n",
    "disp5 = pd.DataFrame( atributo_numerico.apply( lambda x: x.skew() ) ).T \n",
    "disp6 = pd.DataFrame( atributo_numerico.apply( lambda x: x.kurtosis() ) ).T \n",
    "\n",
    "# concatenar\n",
    "m = pd.concat( [disp2, disp3, disp4, tc1, tc2, disp1, disp5, disp6] ).T.reset_index()\n",
    "m.columns = ['attributes', 'min', 'max', 'range', 'mean', 'median', 'std', 'skew', 'kurtosis']\n",
    "m"
   ]
  },
  {
   "cell_type": "code",
   "execution_count": 59,
   "id": "f02a72a3",
   "metadata": {
    "ExecuteTime": {
     "end_time": "2021-07-01T02:23:21.488373Z",
     "start_time": "2021-07-01T02:23:21.153878Z"
    }
   },
   "outputs": [
    {
     "name": "stderr",
     "output_type": "stream",
     "text": [
      "/home/valmadson/.pyenv/versions/3.9.2/envs/airbnbpredictfirstbooking/lib/python3.9/site-packages/seaborn/distributions.py:2557: FutureWarning: `distplot` is a deprecated function and will be removed in a future version. Please adapt your code to use either `displot` (a figure-level function with similar flexibility) or `histplot` (an axes-level function for histograms).\n",
      "  warnings.warn(msg, FutureWarning)\n"
     ]
    },
    {
     "data": {
      "text/plain": [
       "<AxesSubplot:xlabel='CompetitionDistance'>"
      ]
     },
     "execution_count": 59,
     "metadata": {},
     "output_type": "execute_result"
    },
    {
     "data": {
      "image/png": "[encoded data removed]",
      "text/plain": [
       "<Figure size 1800x864 with 1 Axes>"
      ]
     },
     "metadata": {},
     "output_type": "display_data"
    }
   ],
   "source": [
    "sns.distplot( df_merge['CompetitionDistance'], kde=False )"
   ]
  },
  {
   "cell_type": "code",
   "execution_count": 54,
   "id": "d994cd4d",
   "metadata": {
    "ExecuteTime": {
     "end_time": "2021-07-01T02:17:45.965913Z",
     "start_time": "2021-07-01T02:17:45.790787Z"
    }
   },
   "outputs": [
    {
     "data": {
      "text/plain": [
       "StateHoliday      4\n",
       "StoreType         4\n",
       "Assortment        3\n",
       "PromoInterval     4\n",
       "month_map        12\n",
       "dtype: int64"
      ]
     },
     "execution_count": 54,
     "metadata": {},
     "output_type": "execute_result"
    }
   ],
   "source": [
    "# Exibição dos atributos categoricos\n",
    "atributo_categorico.apply( lambda x: x.unique().shape[0] )"
   ]
  },
  {
   "cell_type": "code",
   "execution_count": 60,
   "id": "756434f3",
   "metadata": {
    "ExecuteTime": {
     "end_time": "2021-07-01T02:23:33.653344Z",
     "start_time": "2021-07-01T02:23:33.096704Z"
    }
   },
   "outputs": [
    {
     "data": {
      "text/plain": [
       "<AxesSubplot:xlabel='Assortment', ylabel='Sales'>"
      ]
     },
     "execution_count": 60,
     "metadata": {},
     "output_type": "execute_result"
    },
    {
     "data": {
      "image/png": "[encoded data removed]",
      "text/plain": [
       "<Figure size 1800x864 with 3 Axes>"
      ]
     },
     "metadata": {},
     "output_type": "display_data"
    }
   ],
   "source": [
    "# Divisão das vendas em relação algumas variaveis categóricas\n",
    "aux = df_merge[(df_merge['StateHoliday'] != '0') & (df_merge['Sales'] > 0)]\n",
    "\n",
    "plt.subplot( 1, 3, 1 )\n",
    "sns.boxplot( x='StateHoliday', y='Sales', data=aux )\n",
    "\n",
    "plt.subplot( 1, 3, 2 )\n",
    "sns.boxplot( x='StoreType', y='Sales', data=aux )\n",
    "\n",
    "plt.subplot( 1, 3, 3 )\n",
    "sns.boxplot( x='Assortment', y='Sales', data=aux )"
   ]
  }
 ],
 "metadata": {
  "kernelspec": {
   "display_name": "Python 3",
   "language": "python",
   "name": "python3"
  },
  "language_info": {
   "codemirror_mode": {
    "name": "ipython",
    "version": 3
   },
   "file_extension": ".py",
   "mimetype": "text/x-python",
   "name": "python",
   "nbconvert_exporter": "python",
   "pygments_lexer": "ipython3",
   "version": "3.9.2"
  }
 },
 "nbformat": 4,
 "nbformat_minor": 5
}
