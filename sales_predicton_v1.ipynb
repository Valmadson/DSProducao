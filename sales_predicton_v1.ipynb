{
 "cells": [
  {
   "cell_type": "markdown",
   "id": "e70362bf",
   "metadata": {
    "ExecuteTime": {
     "end_time": "2021-06-24T15:12:47.654831Z",
     "start_time": "2021-06-24T15:12:47.652132Z"
    },
    "heading_collapsed": true
   },
   "source": [
    "# 0.0 Imports"
   ]
  },
  {
   "cell_type": "code",
   "execution_count": 21,
   "id": "380702c3",
   "metadata": {
    "ExecuteTime": {
     "end_time": "2021-06-24T17:58:11.247247Z",
     "start_time": "2021-06-24T17:58:11.244273Z"
    },
    "hidden": true
   },
   "outputs": [],
   "source": [
    "import pandas as pd\n",
    "import inflection\n",
    "# nova funcionalidade para teste."
   ]
  },
  {
   "cell_type": "markdown",
   "id": "307fd087",
   "metadata": {
    "ExecuteTime": {
     "end_time": "2021-06-24T15:21:11.738424Z",
     "start_time": "2021-06-24T15:21:11.733734Z"
    },
    "heading_collapsed": true,
    "hidden": true
   },
   "source": [
    "## 0.1. Helper Functions"
   ]
  },
  {
   "cell_type": "markdown",
   "id": "c053a492",
   "metadata": {
    "ExecuteTime": {
     "end_time": "2021-06-24T15:21:11.738424Z",
     "start_time": "2021-06-24T15:21:11.733734Z"
    },
    "heading_collapsed": true,
    "hidden": true
   },
   "source": [
    "## 0.2. Loading data"
   ]
  },
  {
   "cell_type": "code",
   "execution_count": 7,
   "id": "ae17de1e",
   "metadata": {
    "ExecuteTime": {
     "end_time": "2021-06-24T15:34:15.189069Z",
     "start_time": "2021-06-24T15:34:14.680094Z"
    },
    "hidden": true
   },
   "outputs": [],
   "source": [
    "df_sales_0 = pd.read_csv('data/train.csv', low_memory=False)\n",
    "df_store_0 = pd.read_csv('data/store.csv', low_memory=False)"
   ]
  },
  {
   "cell_type": "code",
   "execution_count": 12,
   "id": "dec9d152",
   "metadata": {
    "ExecuteTime": {
     "end_time": "2021-06-24T17:37:09.878545Z",
     "start_time": "2021-06-24T17:37:09.486734Z"
    },
    "hidden": true
   },
   "outputs": [],
   "source": [
    "df_merge = pd.merge(df_sales_0,df_store_0, how='left',on='Store')"
   ]
  },
  {
   "cell_type": "markdown",
   "id": "4ab84d64",
   "metadata": {
    "ExecuteTime": {
     "end_time": "2021-06-24T15:12:47.654831Z",
     "start_time": "2021-06-24T15:12:47.652132Z"
    },
    "heading_collapsed": true
   },
   "source": [
    "# 1.0 Descrição dos dados"
   ]
  },
  {
   "cell_type": "markdown",
   "id": "8ce1a88e",
   "metadata": {
    "ExecuteTime": {
     "end_time": "2021-06-24T17:52:36.925082Z",
     "start_time": "2021-06-24T17:52:36.922837Z"
    },
    "code_folding": [],
    "heading_collapsed": true,
    "hidden": true
   },
   "source": [
    "## 1.1. Dimensão dos Dados"
   ]
  },
  {
   "cell_type": "code",
   "execution_count": 22,
   "id": "d2ae4f7c",
   "metadata": {
    "ExecuteTime": {
     "end_time": "2021-06-24T18:08:29.269199Z",
     "start_time": "2021-06-24T18:08:29.265159Z"
    },
    "hidden": true
   },
   "outputs": [
    {
     "name": "stdout",
     "output_type": "stream",
     "text": [
      "Número de Linhas 1017209\n",
      "Número de Colunas 18\n"
     ]
    }
   ],
   "source": [
    "print( 'Número de Linhas {}'.format(df_merge.shape[0]))\n",
    "print( 'Número de Colunas {}'.format(df_merge.shape[1]))"
   ]
  },
  {
   "cell_type": "markdown",
   "id": "b1f55efd",
   "metadata": {
    "ExecuteTime": {
     "end_time": "2021-06-24T17:52:36.925082Z",
     "start_time": "2021-06-24T17:52:36.922837Z"
    },
    "code_folding": [],
    "heading_collapsed": true,
    "hidden": true
   },
   "source": [
    "## 1.2. Tipos de Dados"
   ]
  },
  {
   "cell_type": "code",
   "execution_count": 28,
   "id": "5a12add9",
   "metadata": {
    "ExecuteTime": {
     "end_time": "2021-06-24T18:14:11.514503Z",
     "start_time": "2021-06-24T18:14:11.266883Z"
    },
    "hidden": true
   },
   "outputs": [],
   "source": [
    "df_merge['Date'] = pd.to_datetime(df_merge['Date'])"
   ]
  },
  {
   "cell_type": "code",
   "execution_count": 29,
   "id": "2b9a936d",
   "metadata": {
    "ExecuteTime": {
     "end_time": "2021-06-24T18:14:12.494859Z",
     "start_time": "2021-06-24T18:14:12.490309Z"
    },
    "hidden": true,
    "scrolled": true
   },
   "outputs": [
    {
     "data": {
      "text/plain": [
       "Store                                 int64\n",
       "DayOfWeek                             int64\n",
       "Date                         datetime64[ns]\n",
       "Sales                                 int64\n",
       "Customers                             int64\n",
       "Open                                  int64\n",
       "Promo                                 int64\n",
       "StateHoliday                         object\n",
       "SchoolHoliday                         int64\n",
       "StoreType                            object\n",
       "Assortment                           object\n",
       "CompetitionDistance                 float64\n",
       "CompetitionOpenSinceMonth           float64\n",
       "CompetitionOpenSinceYear            float64\n",
       "Promo2                                int64\n",
       "Promo2SinceWeek                     float64\n",
       "Promo2SinceYear                     float64\n",
       "PromoInterval                        object\n",
       "dtype: object"
      ]
     },
     "execution_count": 29,
     "metadata": {},
     "output_type": "execute_result"
    }
   ],
   "source": [
    "df_merge.dtypes"
   ]
  },
  {
   "cell_type": "markdown",
   "id": "460ba244",
   "metadata": {
    "ExecuteTime": {
     "end_time": "2021-06-24T17:52:36.925082Z",
     "start_time": "2021-06-24T17:52:36.922837Z"
    },
    "code_folding": [],
    "heading_collapsed": true,
    "hidden": true
   },
   "source": [
    "## 1.1. Verificando Nan"
   ]
  },
  {
   "cell_type": "code",
   "execution_count": 31,
   "id": "6d80d186",
   "metadata": {
    "ExecuteTime": {
     "end_time": "2021-06-24T18:16:05.296848Z",
     "start_time": "2021-06-24T18:16:05.155959Z"
    },
    "hidden": true
   },
   "outputs": [
    {
     "data": {
      "text/plain": [
       "Store                             0\n",
       "DayOfWeek                         0\n",
       "Date                              0\n",
       "Sales                             0\n",
       "Customers                         0\n",
       "Open                              0\n",
       "Promo                             0\n",
       "StateHoliday                      0\n",
       "SchoolHoliday                     0\n",
       "StoreType                         0\n",
       "Assortment                        0\n",
       "CompetitionDistance            2642\n",
       "CompetitionOpenSinceMonth    323348\n",
       "CompetitionOpenSinceYear     323348\n",
       "Promo2                            0\n",
       "Promo2SinceWeek              508031\n",
       "Promo2SinceYear              508031\n",
       "PromoInterval                508031\n",
       "dtype: int64"
      ]
     },
     "execution_count": 31,
     "metadata": {},
     "output_type": "execute_result"
    }
   ],
   "source": [
    "df_merge.isna().sum()"
   ]
  },
  {
   "cell_type": "code",
   "execution_count": 3,
   "id": "0ef2abc3",
   "metadata": {
    "ExecuteTime": {
     "end_time": "2021-06-24T15:24:14.863362Z",
     "start_time": "2021-06-24T15:24:14.860870Z"
    },
    "hidden": true
   },
   "outputs": [],
   "source": [
    "## 1.1. Descrição dos Dados"
   ]
  },
  {
   "cell_type": "code",
   "execution_count": 3,
   "id": "eb1aaa2a",
   "metadata": {
    "ExecuteTime": {
     "end_time": "2021-06-24T15:24:14.863362Z",
     "start_time": "2021-06-24T15:24:14.860870Z"
    },
    "hidden": true
   },
   "outputs": [],
   "source": [
    "## 1.1. Descrição dos Dados"
   ]
  },
  {
   "cell_type": "code",
   "execution_count": 3,
   "id": "0bdec5f6",
   "metadata": {
    "ExecuteTime": {
     "end_time": "2021-06-24T15:24:14.863362Z",
     "start_time": "2021-06-24T15:24:14.860870Z"
    },
    "hidden": true
   },
   "outputs": [],
   "source": [
    "## 1.1. Descrição dos Dados"
   ]
  },
  {
   "cell_type": "code",
   "execution_count": 3,
   "id": "cc760033",
   "metadata": {
    "ExecuteTime": {
     "end_time": "2021-06-24T15:24:14.863362Z",
     "start_time": "2021-06-24T15:24:14.860870Z"
    },
    "hidden": true
   },
   "outputs": [],
   "source": [
    "## 1.1. Descrição dos Dados"
   ]
  },
  {
   "cell_type": "code",
   "execution_count": 3,
   "id": "fd856af2",
   "metadata": {
    "ExecuteTime": {
     "end_time": "2021-06-24T15:24:14.863362Z",
     "start_time": "2021-06-24T15:24:14.860870Z"
    },
    "hidden": true
   },
   "outputs": [],
   "source": [
    "## 1.1. Descrição dos Dados"
   ]
  },
  {
   "cell_type": "code",
   "execution_count": 3,
   "id": "2c321cf1",
   "metadata": {
    "ExecuteTime": {
     "end_time": "2021-06-24T15:24:14.863362Z",
     "start_time": "2021-06-24T15:24:14.860870Z"
    },
    "hidden": true
   },
   "outputs": [],
   "source": [
    "## 1.1. Descrição dos Dados"
   ]
  },
  {
   "cell_type": "code",
   "execution_count": 3,
   "id": "18ac4d75",
   "metadata": {
    "ExecuteTime": {
     "end_time": "2021-06-24T15:24:14.863362Z",
     "start_time": "2021-06-24T15:24:14.860870Z"
    },
    "hidden": true
   },
   "outputs": [],
   "source": [
    "## 1.1. Descrição dos Dados"
   ]
  },
  {
   "cell_type": "code",
   "execution_count": 3,
   "id": "67bcabcc",
   "metadata": {
    "ExecuteTime": {
     "end_time": "2021-06-24T15:24:14.863362Z",
     "start_time": "2021-06-24T15:24:14.860870Z"
    },
    "hidden": true
   },
   "outputs": [],
   "source": [
    "## 1.1. Descrição dos Dados"
   ]
  },
  {
   "cell_type": "code",
   "execution_count": null,
   "id": "e2fd478b",
   "metadata": {
    "hidden": true
   },
   "outputs": [],
   "source": []
  }
 ],
 "metadata": {
  "kernelspec": {
   "display_name": "Python 3",
   "language": "python",
   "name": "python3"
  },
  "language_info": {
   "codemirror_mode": {
    "name": "ipython",
    "version": 3
   },
   "file_extension": ".py",
   "mimetype": "text/x-python",
   "name": "python",
   "nbconvert_exporter": "python",
   "pygments_lexer": "ipython3",
   "version": "3.9.2"
  }
 },
 "nbformat": 4,
 "nbformat_minor": 5
}
